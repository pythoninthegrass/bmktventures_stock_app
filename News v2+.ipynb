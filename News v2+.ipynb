{
 "cells": [
  {
   "cell_type": "code",
   "execution_count": 1,
   "id": "e5c5c30a",
   "metadata": {},
   "outputs": [],
   "source": [
    "# NOTES \n",
    "\n",
    "# adding new articles counter"
   ]
  },
  {
   "cell_type": "code",
   "execution_count": 2,
   "id": "ee5aff07",
   "metadata": {},
   "outputs": [],
   "source": [
    "import datetime\n",
    "import pandas as pd\n",
    "from yahoo_fin import news\n",
    "from pathlib import Path\n",
    "import os"
   ]
  },
  {
   "cell_type": "code",
   "execution_count": 3,
   "id": "f9f3d392",
   "metadata": {},
   "outputs": [
    {
     "name": "stdout",
     "output_type": "stream",
     "text": [
      "Enter a ticker: JPM\n"
     ]
    }
   ],
   "source": [
    "# specify the ticker you want to get headlines for\n",
    "ticker = input('Enter a ticker: ')"
   ]
  },
  {
   "cell_type": "code",
   "execution_count": 4,
   "id": "1c57db78",
   "metadata": {},
   "outputs": [
    {
     "name": "stdout",
     "output_type": "stream",
     "text": [
      "JPM_news.csv EXISTS in the current dir\n",
      "20 articles from today were added\n",
      "resaved sans duplicates\n"
     ]
    }
   ],
   "source": [
    "# get the directory of the Python file\n",
    "current_dir = Path().resolve()\n",
    "# print(current_dir)\n",
    "\n",
    "# check to see if there's an existing news file for this company\n",
    "\n",
    "# define filename\n",
    "filename = f'{ticker}_news.csv'\n",
    "\n",
    "# adds filename to path\n",
    "filepath = current_dir / filename\n",
    "\n",
    "# print(filepath)\n",
    "\n",
    "# check if the file exists in the current directory\n",
    "if filepath.is_file():\n",
    "    print(f\"{filename} EXISTS in the current dir\")\n",
    "else:\n",
    "    print(f\"{filename} DOES NOT exist in the current dir\")\n",
    "    \n",
    "    \n",
    "# get headlines into news_df\n",
    "news_df = news.get_yf_rss(f\"{ticker}\")\n",
    "\n",
    "# putting titles and links into df\n",
    "\n",
    "# Create empty lists for titles and links\n",
    "titles = []\n",
    "links = []\n",
    "\n",
    "# Loop through news items and extract title and link data\n",
    "for news in news_df:\n",
    "    titles.append(news['title'])\n",
    "    links.append(news['link'])\n",
    "\n",
    "# Create a DataFrame from the lists\n",
    "df = pd.DataFrame({'Title': titles, 'Link': links})\n",
    "\n",
    "# addind date column\n",
    "today = datetime.datetime.today().strftime('%Y-%m-%d')\n",
    "df['Date'] = today\n",
    "\n",
    "\n",
    "if filepath.is_file():\n",
    "    # read the existing data into a dataframe\n",
    "    df2 = pd.read_csv(filepath)\n",
    "\n",
    "    # merge the existing data with the new data\n",
    "    appended_df = pd.merge(df2, df, how='outer')\n",
    "\n",
    "    # save the appended data to the same file\n",
    "    appended_df.to_csv(filepath, index=False)\n",
    "\n",
    "else:\n",
    "    # save the new data to a new file with the specified filename\n",
    "    df.to_csv(filepath, index=False)\n",
    "\n",
    "    print(f\"{filename} was created\")\n",
    "    \n",
    "# reloading csv to handle duplicates\n",
    "news = pd.read_csv(filepath)\n",
    "\n",
    "# checking for duplicates\n",
    "duplicates = news[news.duplicated(subset=['Title'])]\n",
    "\n",
    "# Remove duplicates\n",
    "news.drop_duplicates(subset=['Title'], inplace=True)\n",
    "\n",
    "df = news \n",
    "\n",
    "# count the number of rows from today that were added\n",
    "new_articles_count = (df['Date'] == str(datetime.date.today())).sum()\n",
    "print(f'{new_articles_count} articles from today were added')\n",
    "\n",
    "df.to_csv(filepath, index=False)\n",
    "print(f\"resaved sans duplicates\")"
   ]
  },
  {
   "cell_type": "code",
   "execution_count": null,
   "id": "2a17bf67",
   "metadata": {},
   "outputs": [],
   "source": []
  }
 ],
 "metadata": {
  "kernelspec": {
   "display_name": "Python 3 (ipykernel)",
   "language": "python",
   "name": "python3"
  },
  "language_info": {
   "codemirror_mode": {
    "name": "ipython",
    "version": 3
   },
   "file_extension": ".py",
   "mimetype": "text/x-python",
   "name": "python",
   "nbconvert_exporter": "python",
   "pygments_lexer": "ipython3",
   "version": "3.9.12"
  }
 },
 "nbformat": 4,
 "nbformat_minor": 5
}
