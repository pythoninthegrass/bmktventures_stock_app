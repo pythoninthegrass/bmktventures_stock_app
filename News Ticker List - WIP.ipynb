{
 "cells": [
  {
   "cell_type": "code",
   "execution_count": 4,
   "id": "b880b821",
   "metadata": {},
   "outputs": [],
   "source": [
    "import datetime\n",
    "import pandas as pd\n",
    "from yahoo_fin import news\n",
    "import yfinance\n",
    "import os\n",
    "import time"
   ]
  },
  {
   "cell_type": "code",
   "execution_count": 5,
   "id": "580a0320",
   "metadata": {},
   "outputs": [],
   "source": [
    "tickers = ['VXX', 'SOXX', 'ASML', 'COP', 'AMD', 'RTX', 'BHP', 'ETN']"
   ]
  },
  {
   "cell_type": "code",
   "execution_count": 6,
   "id": "463fa171",
   "metadata": {},
   "outputs": [
    {
     "name": "stdout",
     "output_type": "stream",
     "text": [
      "['VXX', 'SOXX', 'ASML', 'COP', 'AMD', 'RTX', 'BHP', 'ETN']\n"
     ]
    }
   ],
   "source": [
    "print(tickers)"
   ]
  },
  {
   "cell_type": "code",
   "execution_count": 7,
   "id": "882a7ccc",
   "metadata": {},
   "outputs": [
    {
     "name": "stdout",
     "output_type": "stream",
     "text": [
      "VXX_news.csv EXISTS in the current dir\n",
      "new data was added to VXX_news.csv\n",
      "VXX_news.csv resaved sans duplicates\n",
      "SOXX_news.csv EXISTS in the current dir\n"
     ]
    },
    {
     "ename": "AttributeError",
     "evalue": "'DataFrame' object has no attribute 'get_yf_rss'",
     "output_type": "error",
     "traceback": [
      "\u001b[1;31m---------------------------------------------------------------------------\u001b[0m",
      "\u001b[1;31mAttributeError\u001b[0m                            Traceback (most recent call last)",
      "\u001b[1;32mc:\\Users\\blake\\Desktop\\github\\stonks\\News\\News Ticker List - working.ipynb Cell 4\u001b[0m in \u001b[0;36m<cell line: 2>\u001b[1;34m()\u001b[0m\n\u001b[0;32m     <a href='vscode-notebook-cell:/c%3A/Users/blake/Desktop/github/stonks/News/News%20Ticker%20List%20-%20working.ipynb#W3sZmlsZQ%3D%3D?line=18'>19</a>\u001b[0m     \u001b[39mprint\u001b[39m(\u001b[39mf\u001b[39m\u001b[39m\"\u001b[39m\u001b[39m{\u001b[39;00mfilename\u001b[39m}\u001b[39;00m\u001b[39m DOES NOT exist in the current dir\u001b[39m\u001b[39m\"\u001b[39m)\n\u001b[0;32m     <a href='vscode-notebook-cell:/c%3A/Users/blake/Desktop/github/stonks/News/News%20Ticker%20List%20-%20working.ipynb#W3sZmlsZQ%3D%3D?line=20'>21</a>\u001b[0m \u001b[39m# get headlines into news_df\u001b[39;00m\n\u001b[1;32m---> <a href='vscode-notebook-cell:/c%3A/Users/blake/Desktop/github/stonks/News/News%20Ticker%20List%20-%20working.ipynb#W3sZmlsZQ%3D%3D?line=21'>22</a>\u001b[0m news_df \u001b[39m=\u001b[39m news\u001b[39m.\u001b[39;49mget_yf_rss(\u001b[39mf\u001b[39m\u001b[39m\"\u001b[39m\u001b[39m{\u001b[39;00mticker\u001b[39m}\u001b[39;00m\u001b[39m\"\u001b[39m)\n\u001b[0;32m     <a href='vscode-notebook-cell:/c%3A/Users/blake/Desktop/github/stonks/News/News%20Ticker%20List%20-%20working.ipynb#W3sZmlsZQ%3D%3D?line=23'>24</a>\u001b[0m \u001b[39m# putting titles and links into df\u001b[39;00m\n\u001b[0;32m     <a href='vscode-notebook-cell:/c%3A/Users/blake/Desktop/github/stonks/News/News%20Ticker%20List%20-%20working.ipynb#W3sZmlsZQ%3D%3D?line=24'>25</a>\u001b[0m \n\u001b[0;32m     <a href='vscode-notebook-cell:/c%3A/Users/blake/Desktop/github/stonks/News/News%20Ticker%20List%20-%20working.ipynb#W3sZmlsZQ%3D%3D?line=25'>26</a>\u001b[0m \u001b[39m# Create empty lists for titles and links\u001b[39;00m\n\u001b[0;32m     <a href='vscode-notebook-cell:/c%3A/Users/blake/Desktop/github/stonks/News/News%20Ticker%20List%20-%20working.ipynb#W3sZmlsZQ%3D%3D?line=26'>27</a>\u001b[0m titles \u001b[39m=\u001b[39m []\n",
      "File \u001b[1;32mc:\\Users\\blake\\anaconda3\\lib\\site-packages\\pandas\\core\\generic.py:5989\u001b[0m, in \u001b[0;36mNDFrame.__getattr__\u001b[1;34m(self, name)\u001b[0m\n\u001b[0;32m   5982\u001b[0m \u001b[39mif\u001b[39;00m (\n\u001b[0;32m   5983\u001b[0m     name \u001b[39mnot\u001b[39;00m \u001b[39min\u001b[39;00m \u001b[39mself\u001b[39m\u001b[39m.\u001b[39m_internal_names_set\n\u001b[0;32m   5984\u001b[0m     \u001b[39mand\u001b[39;00m name \u001b[39mnot\u001b[39;00m \u001b[39min\u001b[39;00m \u001b[39mself\u001b[39m\u001b[39m.\u001b[39m_metadata\n\u001b[0;32m   5985\u001b[0m     \u001b[39mand\u001b[39;00m name \u001b[39mnot\u001b[39;00m \u001b[39min\u001b[39;00m \u001b[39mself\u001b[39m\u001b[39m.\u001b[39m_accessors\n\u001b[0;32m   5986\u001b[0m     \u001b[39mand\u001b[39;00m \u001b[39mself\u001b[39m\u001b[39m.\u001b[39m_info_axis\u001b[39m.\u001b[39m_can_hold_identifiers_and_holds_name(name)\n\u001b[0;32m   5987\u001b[0m ):\n\u001b[0;32m   5988\u001b[0m     \u001b[39mreturn\u001b[39;00m \u001b[39mself\u001b[39m[name]\n\u001b[1;32m-> 5989\u001b[0m \u001b[39mreturn\u001b[39;00m \u001b[39mobject\u001b[39;49m\u001b[39m.\u001b[39;49m\u001b[39m__getattribute__\u001b[39;49m(\u001b[39mself\u001b[39;49m, name)\n",
      "\u001b[1;31mAttributeError\u001b[0m: 'DataFrame' object has no attribute 'get_yf_rss'"
     ]
    }
   ],
   "source": [
    "# Loop through tickers\n",
    "for ticker in tickers:\n",
    "    # shows you where this file is located\n",
    "    current_dir = os.getcwd()\n",
    "    # print(current_dir)\n",
    "\n",
    "    # check to see if there's an existing news file for this company\n",
    "\n",
    "    # define filename\n",
    "    filename = f'{ticker}_news.csv'\n",
    "\n",
    "    # adds filename to path\n",
    "    filepath = os.path.join(current_dir, filename)\n",
    "\n",
    "    # check if the file exists in the current directory\n",
    "    if os.path.isfile(os.path.join(current_dir, filename)):\n",
    "        print(f\"{filename} EXISTS in the current dir\")\n",
    "    else:\n",
    "        print(f\"{filename} DOES NOT exist in the current dir\")\n",
    "\n",
    "    # get headlines into news_df\n",
    "    news_df = news.get_yf_rss(f\"{ticker}\")\n",
    "\n",
    "    # putting titles and links into df\n",
    "\n",
    "    # Create empty lists for titles and links\n",
    "    titles = []\n",
    "    links = []\n",
    "\n",
    "    # Loop through news items and extract title and link data\n",
    "    for news in news_df:\n",
    "        titles.append(news['title'])\n",
    "        links.append(news['link'])\n",
    "\n",
    "    # Create a DataFrame from the lists\n",
    "    df = pd.DataFrame({'Title': titles, 'Link': links})\n",
    "\n",
    "    # addind date column\n",
    "    today = datetime.datetime.today().strftime('%Y-%m-%d')\n",
    "    df['Date'] = today\n",
    "\n",
    "    # check if the file exists\n",
    "    if os.path.isfile(filepath):\n",
    "        # read the existing data into a dataframe\n",
    "        df2 = pd.read_csv(filepath)\n",
    "\n",
    "        # merge the existing data with the new data\n",
    "        appended_df = pd.merge(df2, df, how='outer')\n",
    "\n",
    "        # save the appended data to the same file\n",
    "        appended_df.to_csv(filepath, index=False)\n",
    "\n",
    "        print(f\"new data was added to {filename}\")\n",
    "    else:\n",
    "        # save the new data to a new file with the specified filename\n",
    "        df.to_csv(filepath, index=False)\n",
    "\n",
    "        print(f\"{filename} was created\")\n",
    "\n",
    "    # reloading csv to handle duplicates\n",
    "    news = pd.read_csv(filepath)\n",
    "\n",
    "    # checking for duplicates\n",
    "    duplicates = news[news.duplicated(subset=['Title'])]\n",
    "\n",
    "    # Remove duplicates\n",
    "    news.drop_duplicates(subset=['Title'], inplace=True)\n",
    "\n",
    "    # save the modified data to the same file\n",
    "    news.to_csv(filepath, index=False)\n",
    "\n",
    "    print(f\"{filename} resaved sans duplicates\")\n",
    "    \n",
    "    time.sleep(10)"
   ]
  }
 ],
 "metadata": {
  "kernelspec": {
   "display_name": "Python 3 (ipykernel)",
   "language": "python",
   "name": "python3"
  },
  "language_info": {
   "codemirror_mode": {
    "name": "ipython",
    "version": 3
   },
   "file_extension": ".py",
   "mimetype": "text/x-python",
   "name": "python",
   "nbconvert_exporter": "python",
   "pygments_lexer": "ipython3",
   "version": "3.9.12"
  }
 },
 "nbformat": 4,
 "nbformat_minor": 5
}
