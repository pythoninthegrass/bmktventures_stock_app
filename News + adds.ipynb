{
 "cells": [
  {
   "cell_type": "code",
   "execution_count": 1,
   "id": "1c1e20a9",
   "metadata": {},
   "outputs": [],
   "source": [
    "# NOTES \n",
    "\n",
    "# adding new articles counter"
   ]
  },
  {
   "cell_type": "code",
   "execution_count": 2,
   "id": "6554a477",
   "metadata": {},
   "outputs": [],
   "source": [
    "import datetime\n",
    "import pandas as pd\n",
    "from yahoo_fin import news\n",
    "from pathlib import Path\n",
    "import os"
   ]
  },
  {
   "cell_type": "code",
   "execution_count": 3,
   "id": "923aaeb2",
   "metadata": {},
   "outputs": [
    {
     "name": "stdout",
     "output_type": "stream",
     "text": [
      "Enter a ticker: VXX\n"
     ]
    }
   ],
   "source": [
    "# specify the ticker you want to get headlines for\n",
    "ticker = input('Enter a ticker: ')"
   ]
  },
  {
   "cell_type": "code",
   "execution_count": 4,
   "id": "f530b0dc",
   "metadata": {},
   "outputs": [
    {
     "name": "stdout",
     "output_type": "stream",
     "text": [
      "C:\\Users\\blake\\Desktop\\github\\stonks\\News\n"
     ]
    }
   ],
   "source": [
    "# get the directory of the Python file\n",
    "current_dir = Path().resolve()\n",
    "print(current_dir)"
   ]
  },
  {
   "cell_type": "code",
   "execution_count": 5,
   "id": "79f9cbf4",
   "metadata": {},
   "outputs": [],
   "source": [
    "# check to see if there's an existing news file for this company\n",
    "\n",
    "# define filename\n",
    "filename = f'{ticker}_news.csv'\n",
    "\n",
    "# adds filename to path\n",
    "filepath = current_dir / filename"
   ]
  },
  {
   "cell_type": "code",
   "execution_count": 11,
   "id": "6d27ba73",
   "metadata": {},
   "outputs": [
    {
     "name": "stdout",
     "output_type": "stream",
     "text": [
      "C:\\Users\\blake\\Desktop\\github\\stonks\\News\\VXX_news.csv\n"
     ]
    }
   ],
   "source": [
    "print(filepath)"
   ]
  },
  {
   "cell_type": "code",
   "execution_count": 6,
   "id": "84d9ab4f",
   "metadata": {},
   "outputs": [
    {
     "name": "stdout",
     "output_type": "stream",
     "text": [
      "VXX_news.csv EXISTS in the current dir\n"
     ]
    }
   ],
   "source": [
    "# check if the file exists in the current directory\n",
    "if filepath.is_file():\n",
    "    print(f\"{filename} EXISTS in the current dir\")\n",
    "else:\n",
    "    print(f\"{filename} DOES NOT exist in the current dir\")\n",
    "    \n",
    "    \n",
    "# get headlines into news_df\n",
    "news_df = news.get_yf_rss(f\"{ticker}\")\n",
    "\n",
    "# putting titles and links into df\n",
    "\n",
    "# Create empty lists for titles and links\n",
    "titles = []\n",
    "links = []\n",
    "\n",
    "# Loop through news items and extract title and link data\n",
    "for news in news_df:\n",
    "    titles.append(news['title'])\n",
    "    links.append(news['link'])\n",
    "\n",
    "# Create a DataFrame from the lists\n",
    "df = pd.DataFrame({'Title': titles, 'Link': links})\n",
    "\n",
    "# addind date column\n",
    "today = datetime.datetime.today().strftime('%Y-%m-%d')\n",
    "df['Date'] = today"
   ]
  },
  {
   "cell_type": "code",
   "execution_count": 7,
   "id": "f57905b3",
   "metadata": {},
   "outputs": [
    {
     "name": "stdout",
     "output_type": "stream",
     "text": [
      "14 new articles were added for VXX\n"
     ]
    }
   ],
   "source": [
    "if filepath.is_file():\n",
    "    # read the existing data into a dataframe\n",
    "    df2 = pd.read_csv(filepath)\n",
    "\n",
    "    # count the number of rows in the existing file\n",
    "    num_old_rows = len(df2.index)\n",
    "\n",
    "    # merge the existing data with the new data\n",
    "    appended_df = pd.merge(df2, df, how='outer')\n",
    "    \n",
    "    # count the number of new rows\n",
    "    num_new_rows = len(appended_df.index)\n",
    "    \n",
    "    # number of net new articles\n",
    "    net_new_articles = num_new_rows - num_old_rows\n",
    "\n",
    "    # save the appended data to the same file\n",
    "    appended_df.to_csv(filepath, index=False)\n",
    "    \n",
    "    print(f\"{net_new_articles} new articles were added for {ticker}\")\n",
    "else:\n",
    "    # save the new data to a new file with the specified filename\n",
    "    df.to_csv(filepath, index=False)\n",
    "\n",
    "    print(f\"{filename} was created\")"
   ]
  },
  {
   "cell_type": "code",
   "execution_count": 9,
   "id": "59206f07",
   "metadata": {},
   "outputs": [
    {
     "name": "stdout",
     "output_type": "stream",
     "text": [
      "16\n"
     ]
    }
   ],
   "source": [
    "print(num_old_rows)"
   ]
  },
  {
   "cell_type": "code",
   "execution_count": 10,
   "id": "fb7ce5c0",
   "metadata": {},
   "outputs": [
    {
     "name": "stdout",
     "output_type": "stream",
     "text": [
      "30\n"
     ]
    }
   ],
   "source": [
    "print(num_new_rows)"
   ]
  },
  {
   "cell_type": "code",
   "execution_count": 8,
   "id": "4549f97d",
   "metadata": {},
   "outputs": [
    {
     "name": "stdout",
     "output_type": "stream",
     "text": [
      "VXX_news.csv resaved sans duplicates\n"
     ]
    }
   ],
   "source": [
    "# reloading csv to handle duplicates\n",
    "news = pd.read_csv(filepath)\n",
    "\n",
    "# checking for duplicates\n",
    "duplicates = news[news.duplicated(subset=['Title'])]\n",
    "\n",
    "# Remove duplicates\n",
    "news.drop_duplicates(subset=['Title'], inplace=True)\n",
    "\n",
    "df = news \n",
    "df.to_csv(filepath, index=False)\n",
    "print(f\"{filename} resaved sans duplicates\")"
   ]
  },
  {
   "cell_type": "code",
   "execution_count": null,
   "id": "f5878739",
   "metadata": {},
   "outputs": [],
   "source": []
  }
 ],
 "metadata": {
  "kernelspec": {
   "display_name": "Python 3 (ipykernel)",
   "language": "python",
   "name": "python3"
  },
  "language_info": {
   "codemirror_mode": {
    "name": "ipython",
    "version": 3
   },
   "file_extension": ".py",
   "mimetype": "text/x-python",
   "name": "python",
   "nbconvert_exporter": "python",
   "pygments_lexer": "ipython3",
   "version": "3.9.12"
  }
 },
 "nbformat": 4,
 "nbformat_minor": 5
}
